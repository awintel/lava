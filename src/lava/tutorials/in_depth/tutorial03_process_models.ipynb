{
 "cells": [
  {
   "cell_type": "markdown",
   "id": "f9a57c24-eae7-4584-be4e-e3cec3bad4c8",
   "metadata": {},
   "source": [
    "*Copyright (C) 2021 Intel Corporation*<br>\n",
    "*SPDX-License-Identifier: BSD-3-Clause*<br>\n",
    "*See: https://spdx.org/licenses/*\n",
    "\n",
    "---\n",
    "\n",
    "# _ProcessModels_\n",
    "\n",
    "This tutorial explains how Lava _ProcessModels_ implement the behavior of Lava _Processes_. Each Lava _Process_ must have one or more _ProcessModels_, which provide the instructions for how to execute a Lava _Process_. Lava _ProcessModels_ allow a user to specify a Process's behavior in one or more languages (like Python, C, or the Loihi neurocore interface) and for various compute resources (like CPUs, GPUs, or Loihi chips). In this way, _ProcessModels_ enable seamles cross-platform execution of _Processes_ and allow users to build applications and algorithms agonostic of platform-specific implementations.\n",
    "\n",
    "There are two broad classes of _ProcessModels_: _LeafProcessModel_ and _SubProcessModel_. _LeafProcessModels_, which will be the focus of this tutorial, implement the behavior of a process directly. _SubProcessModels_ allow users to implement and compose the behavior of a _Process_ using other _Processes_, thus enabling the creation of Hierarchical _Processes_."
   ]
  },
  {
   "cell_type": "markdown",
   "id": "0a80d3e1-d748-446c-b69b-0d1a2b22478b",
   "metadata": {},
   "source": [
    "<img src=\"https://raw.githubusercontent.com/lava-nc/lava-nc.github.io/main/_static/images/tutorial03/fig01_leafprocessmodel.png\"/>"
   ]
  },
  {
   "cell_type": "markdown",
   "id": "ca975f77-1259-4fd6-81d5-91b68ca930e2",
   "metadata": {},
   "source": [
    "In this tutorial, we walk through the creation of multiple _LeafProcessModels_ that could be used to implement the behavior of a Leaky Integrate-and-Fire (LIF) neuron _Process_."
   ]
  },
  {
   "cell_type": "markdown",
   "id": "0cefc3a7-8517-481e-8f24-cfee96a42f5a",
   "metadata": {},
   "source": [
    "## Recommended tutorials before starting: \n",
    "- [Installing Lava](./tutorial01_installing_lava.ipynb \"Tutorial on Installing Lava\")\n",
    "- [Processes](./tutorial02_processes.ipynb \"Tutorial on Processes\")"
   ]
  },
  {
   "cell_type": "markdown",
   "id": "4c4c7ae8-0ab8-4633-8f29-327dfd9d4603",
   "metadata": {},
   "source": [
    "## Create a LIF _Process_"
   ]
  },
  {
   "cell_type": "markdown",
   "id": "1b9da8ae-5919-4c6a-845a-0d972e682e7d",
   "metadata": {},
   "source": [
    "First, we define our LIF _Process_. (For more information on Lava Processes, see the [previous tutorial](./tutorial02_processes.ipynb).) Here the LIF neural _Process_ accepts activity from synaptic inputs via _InPort_ `a_in` and outputs spiking activity via _OutPort_ `s_out`."
   ]
  },
  {
   "cell_type": "code",
   "execution_count": 8,
   "id": "8ca6da15-98f7-422e-a0c3-66e52f7fb881",
   "metadata": {},
   "outputs": [],
   "source": [
    "from lava.magma.core.process.process import AbstractProcess\n",
    "from lava.magma.core.process.variable import Var\n",
    "from lava.magma.core.process.ports.ports import InPort, OutPort\n",
    "\n",
    "\n",
    "class LIF(AbstractProcess):\n",
    "    \"\"\"Leaky-Integrate-and-Fire neural process with activation input and spike\n",
    "    output ports a_in and s_out.\n",
    "    Realizes the following abstract behavior:\n",
    "    u[t] = u[t-1] * (1-du) + a_in\n",
    "    v[t] = v[t-1] * (1-dv) + u[t] + bias\n",
    "    s_out = v[t] > vth\n",
    "    v[t] = v[t] - s_out*vth\n",
    "    \"\"\"\n",
    "    def __init__(self, **kwargs):\n",
    "        super().__init__(**kwargs)\n",
    "        shape = kwargs.get(\"shape\", (1,))\n",
    "        self.a_in = InPort(shape=shape)\n",
    "        self.s_out = OutPort(shape=shape)\n",
    "        self.u = Var(shape=shape, init=0)\n",
    "        self.v = Var(shape=shape, init=0)\n",
    "        self.du = Var(shape=(1,), init=kwargs.pop(\"du\", 0))\n",
    "        self.dv = Var(shape=(1,), init=kwargs.pop(\"dv\", 0))\n",
    "        self.bias = Var(shape=shape, init=kwargs.pop(\"b\", 0))\n",
    "        self.vth = Var(shape=(1,), init=kwargs.pop(\"vth\", 10))"
   ]
  },
  {
   "cell_type": "markdown",
   "id": "047a7044-8a34-4609-9899-ce5ef2ec7f41",
   "metadata": {},
   "source": [
    "## Create a Python _LeafProcessModel_ that implements the LIF _Process_"
   ]
  },
  {
   "cell_type": "markdown",
   "id": "01231b13-e66e-44cd-a962-8f0c929b6d0b",
   "metadata": {},
   "source": [
    "Now, we will create a Python _ProcessModel_, or _PyProcessModel_, that runs on a CPU compute resource and implements the LIF _Process_ behavior."
   ]
  },
  {
   "cell_type": "markdown",
   "id": "8187e4b4-e5b6-4f83-9680-fff487481e44",
   "metadata": {},
   "source": [
    "#### Setup"
   ]
  },
  {
   "cell_type": "markdown",
   "id": "c3ae00fe-eadb-4161-8921-880ffa483257",
   "metadata": {},
   "source": [
    "We begin by importing the required Lava classes.\n",
    "First, we setup our compute resources (CPU) and our _SyncProtocol_. A _SyncProtocol_ defines how and when parallel _Processes_ synchronize. Here we use the _LoihiProtoicol_ which defines the synchronization phases required for execution on the Loihi chip, but users may also specify a completely asynchronous protocol or define a custom _SyncProtocol_. The decorators imported will be necessary to specify the resource _Requirements_ and _SyncProtocol_ of our _ProcessModel_. "
   ]
  },
  {
   "cell_type": "code",
   "execution_count": 9,
   "id": "0d1dcb38-42ac-41bb-b79f-0bd812ace326",
   "metadata": {},
   "outputs": [],
   "source": [
    "import numpy as np\n",
    "from lava.magma.core.decorator import implements, requires\n",
    "from lava.magma.core.resources import CPU\n",
    "from lava.magma.core.sync.protocols.loihi_protocol import LoihiProtocol"
   ]
  },
  {
   "cell_type": "markdown",
   "id": "a9349f4e-e338-40be-aae9-682aa6f6969a",
   "metadata": {
    "tags": []
   },
   "source": [
    "Now we import the parent class from which our _ProcessModel_ inherits, as well as our required _Port_ and _Variable_ types. _PyLoihiProcessModel_ is the abstract class for a Python _ProcessModel_ that implements the _LoihiProtocol_. Our _ProcessModel_ needs _Ports_ and _Variables_ that mirror those the LIF _Process_. The in-ports and out-ports of a Python _ProcessModel_ have types _PyInPort_ and _PyOutPort_, respectively, while variables have type _LavaPyType_."
   ]
  },
  {
   "cell_type": "code",
   "execution_count": 10,
   "id": "4591f64f-1688-47d1-8c2f-fb68828fdd06",
   "metadata": {},
   "outputs": [],
   "source": [
    "from lava.magma.core.model.py.model import PyLoihiProcessModel\n",
    "from lava.magma.core.model.py.ports import PyInPort, PyOutPort\n",
    "from lava.magma.core.model.py.type import LavaPyType\n",
    "from lava.proc.lif.process import LIF"
   ]
  },
  {
   "cell_type": "markdown",
   "id": "4a5885a0-6b5e-499d-ad6f-73ad80b1a30b",
   "metadata": {},
   "source": [
    "#### Defining a _PyLifModel_ for LIF"
   ]
  },
  {
   "cell_type": "markdown",
   "id": "ce8113b4-9ab3-4202-b7b6-24c10021c7d1",
   "metadata": {
    "tags": []
   },
   "source": [
    "We now define a _LeafProcessModel_ `PyLifModel` that implements the behavior of the LIF _Process_.\n",
    "\n",
    "The `@implements` decorator specifies the _SyncProtocol_ (`protocol=LoihiProtocol`) and the class of the _Process_ (`proc=LIF`) corresponding to the _ProcessModel_. The `@requires` decorator specifies the CPU compute resource required by the _ProcessModel_.\n",
    "\n",
    "Next we define the _ProcessModel_ variables and ports. The variables and ports defined in the _ProcessModel_ must exactly match (by name and number) the variables and ports defined in the corresponding _Process_ for compilation. Our LIF example _Process_ and `PyLifModel` each have 1 input port, 1 output port, and variables for `u`, `v`, `du`, `dv`, `bias`, and `vth`. Variables and ports in a _ProcessModel_ must be initialized with _LavaType_ objects specific to the language of the _LeafProcessModel_ implementation. Here, variables are initialized with the `LavaPyType` to match our Python _LeafProcessModel_ implementation. In general, _LavaTypes_ specify the class-types of variables and ports, including their numeric d_type, precision and dynamic range. The Lava Compiler reads these _LavaTypes_ to initialize concrete class objects from the initial values provided in the _Process_.\n",
    "\n",
    "`run_spk()` implements the LIF neural dynamics. It accepts activity from synaptic inputs via _PyInPort_ `a_in`, and, after integrating current and voltage according to current-based (CUBA) dynamics, outputs spiking activity via _PyOutPort_ `s_out`. Because `PyLifModel` implements the _LoihiProtocol_, the LIF dynamics are implemented with fixed precision integer operations that are possible on Loihi (and not floating point arithmetic).  `recv()` and `send()` are the methods that support the channel based communication of the inputs and outputs to our _ProcessModel_. For more detailed information about Ports and channel-based communication, see the [Ports Tutorial](https://github.com/lava-nc/lava/tree/main/lava/tutorials/in_depth/tutorial05_ports.ipynb)."
   ]
  },
  {
   "cell_type": "code",
   "execution_count": 11,
   "id": "326a0acf-172c-47e9-a0dd-53012e1e0cee",
   "metadata": {},
   "outputs": [],
   "source": [
    "@implements(proc=LIF, protocol=LoihiProtocol)\n",
    "@requires(CPU)\n",
    "class PyLifModel(PyLoihiProcessModel):\n",
    "    a_in: PyInPort = LavaPyType(PyInPort.VEC_DENSE, np.int16, precision=16)\n",
    "    s_out: PyOutPort = LavaPyType(PyOutPort.VEC_DENSE, bool, precision=1)\n",
    "    u: np.ndarray = LavaPyType(np.ndarray, np.int32, precision=24)\n",
    "    v: np.ndarray = LavaPyType(np.ndarray, np.int32, precision=24)\n",
    "    bias: np.ndarray = LavaPyType(np.ndarray, np.int16, precision=12)\n",
    "    du: int = LavaPyType(int, np.uint16, precision=12)\n",
    "    dv: int = LavaPyType(int, np.uint16, precision=12)\n",
    "    vth: int = LavaPyType(int, int, precision=8)\n",
    "\n",
    "    def run_spk(self):\n",
    "        self.u[:] = self.u * ((2 ** 12 - self.du) // 2 ** 12)\n",
    "        a_in_data = self.a_in.recv()\n",
    "        self.u[:] += a_in_data\n",
    "        self.v[:] = self.v * \\\n",
    "            ((2 ** 12 - self.dv) // 2 ** 12) + self.u + self.bias\n",
    "        s_out = self.v > self.vth\n",
    "        self.v[s_out] = 0  # Reset voltage to 0. This is Loihi-1 compatible.\n",
    "        self.s_out.send(s_out)"
   ]
  },
  {
   "cell_type": "markdown",
   "id": "8de1d176-a1a8-4fda-88de-e2a338a31c1e",
   "metadata": {},
   "source": [
    "#### Compile and run _PyLifModel_"
   ]
  },
  {
   "cell_type": "code",
   "execution_count": 12,
   "id": "89b13f22-1a45-402d-829e-e774098b6899",
   "metadata": {},
   "outputs": [
    {
     "name": "stdout",
     "output_type": "stream",
     "text": [
      "[6. 6. 6.]\n"
     ]
    }
   ],
   "source": [
    "from lava.magma.core.run_configs import Loihi1SimCfg\n",
    "from lava.magma.core.run_conditions import RunSteps\n",
    "\n",
    "lif = LIF(shape=(3,), du=0, dv=0, b=3, vth=10)\n",
    "\n",
    "run_cfg = Loihi1SimCfg()\n",
    "lif.run(condition=RunSteps(num_steps=10), run_cfg=run_cfg)\n",
    "print(lif.v.get())"
   ]
  },
  {
   "cell_type": "markdown",
   "id": "3c46d1a6-18a9-4afd-8d27-77d216be7723",
   "metadata": {},
   "source": [
    "## Create an _NcProcessModel_ that implements the LIF _Process_ "
   ]
  },
  {
   "cell_type": "markdown",
   "id": "cab48f78-4184-4839-808f-5d2167748262",
   "metadata": {},
   "source": [
    "_Processes_ can have more than one _ProcessModel_, and different _ProcessModels_ can enable execution on different compute resources. The Lava Compiler will soon support the execution of _Processes_ on Loihi Neurocores using the _AbstractNcProcessModel_ class. Below is an example _NcLifModel_ that implements our same LIF _Process_."
   ]
  },
  {
   "cell_type": "markdown",
   "id": "b1795663-c6de-49a6-8463-2bddb85d47bd",
   "metadata": {
    "tags": []
   },
   "source": [
    "   ```python\n",
    "   from lava.proc.lif.process import LIF\n",
    "   from lava.magma.core.decorator import implements, requires\n",
    "   from lava.magma.core.resources import Loihi1NeuroCore\n",
    "   from lava.magma.core.model.nc.model import NcLoihiProcessModel\n",
    "   from lava.magma.core.model.nc.ports import NcInPort, NcOutPort\n",
    "   from lava.magma.core.model.nc.type import LavaNcType, NcVar\n",
    "   \n",
    "   @implements(proc=LIF) #Note that the NcLoihiProcessModel class implies the useage of the Loihi SyncProtcol\n",
    "   @requires(Loihi1NeuroCore)\n",
    "   class NcLifModel(NcLoihiProcessModel):\n",
    "       # Declare port implementation\n",
    "       a_in: InPort =   LavaNcType(NcInPort, precision=16)\n",
    "       s_out: OutPort = LavaNcType(NcOutPort, precision=1)\n",
    "       # Declare variable implementation\n",
    "       u: NcVar =         LavaNcType(NcVar, precision=24)\n",
    "       v: NcVar =         LavaNcType(NcVar, precision=24)\n",
    "       b: NcVar =         LavaNcType(NcVar, precision=12)\n",
    "       du: NcVar =        LavaNcType(NcVar, precision=12)\n",
    "       dv: NcVar =        LavaNcType(NcVar, precision=12)\n",
    "       vth: NcVar =       LavaNcType(NcVar, precision=8)\n",
    "\n",
    "       def allocate(self, net: mg.Net):\n",
    "           \"\"\"Allocates neural resources in 'virtual' neuro core.\"\"\"\n",
    "           num_neurons = self.in_args['shape'][0]\n",
    "           # Allocate output axons\n",
    "           out_ax = net.out_ax.alloc(size=num_neurons)\n",
    "           net.connect(self.s_out, out_ax)\n",
    "           # Allocate compartments\n",
    "           cx_cfg = net.cx_cfg.alloc(size=1,\n",
    "                                  du=self.du,\n",
    "                                  dv=self.dv,\n",
    "                                  vth=self.vth)\n",
    "           cx = net.cx.alloc(size=num_neurons,\n",
    "                                      u=self.u,\n",
    "                                      v=self.v,\n",
    "                                 b_mant=self.b,\n",
    "                                 cfg=cx_cfg)\n",
    "           cx.connect(out_ax)\n",
    "           # Allocate dendritic accumulators\n",
    "           da = net.da.alloc(size=num_neurons)\n",
    "           da.connect(cx)\n",
    "           net.connect(self.a_in, da)\n",
    "\n",
    "   ```\n",
    "\n",
    "    \n"
   ]
  },
  {
   "cell_type": "markdown",
   "id": "9db23463-984a-48ce-be2b-8a2cc2d8666b",
   "metadata": {},
   "source": [
    "## Selecting 1 _ProcessModel_: More on _LeafProcessModel_ attributes and relations"
   ]
  },
  {
   "cell_type": "markdown",
   "id": "1aaec6c0-dab7-4516-bae7-0707399fb882",
   "metadata": {},
   "source": [
    "We have demonstrated multiple _ProcessModel_ implementations of a single LIF _Process_. How is one of several _ProcessModels_ then selected as the implementation of a _Process_ during runtime? To answer that question, we take a deeper dive into the attributes  of a _LeafProcessModel_ and the relationship between a _LeafProcessModel_, a _Process_, and a _SyncProtocol_. \n",
    "\n",
    "As shown below, a _LeafProcessModel_ implements both a Process (in our example, LIF) and a _SyncProtocol_ (in our example, the _LoihiProtocol_). A _LeafProcessModel_ has a single _Type_. In this tutorial _PyLifModel_ has Type _PyLoihiProcessModel_, while _NcLifModel_ has Type _NcLoihiProcessModel_. A _LeafProcessModel_ also has one or more resource _Requirements_ that specify the compute resources (for example, a CPU, a GPU, or Loihi Neurocores) or peripheral resources (like access to a camera) that are required for execution. Finally, a _LeafProcessModel_ can have one and more user-defineable _Tags_. _Tags_ can be used, among other customizable reasons, to group multiple _ProcessModels_ for a multi- _Process_ application or to distinguish between multiple _LeafProcessModel_ implementations with the same _Type_ and _SyncProtocol_. Together, the _Type_, _Tag_ and _Requirement_ attributes of  a _LeafProcessModel_ allow users to define a _RunConfig_ that chooses which of several _LeafProcessModels_ is used to implement a _Process_ at runtime. The Core Lava Library will also provide several preconfigured _RunConfigs_. \n",
    "\n",
    "<img src=\"https://raw.githubusercontent.com/lava-nc/lava-nc.github.io/main/_static/images/tutorial03/fig02_processmodel_tags_reqs_syncprotocols.png\"/>"
   ]
  },
  {
   "cell_type": "markdown",
   "id": "eca00aa4-877f-4540-99cb-a0874ecc457e",
   "metadata": {
    "tags": []
   },
   "source": [
    "## How to learn more?\n",
    "\n",
    "Learn how to execute single _Processes_ and networks of _Processes_ in the [next tutorial](./tutorial04_execution.ipynb).\n",
    "\n",
    "If you want to find out more about _ProcessModels_, have a look at the [Lava documentation](https://lava-nc.org/) or dive into the [source code](https://github.com/intel-nrc-ecosystem/lava-core-rethink/blob/main/lava/magma/core/model/model.py).\n",
    "\n",
    "To receive regular updates on the latest developments and releases of the Lava Software Framework please subscribe to [our newsletter](http://eepurl.com/hJCyhb)."
   ]
  }
 ],
 "metadata": {
  "kernelspec": {
   "display_name": "Python 3 (ipykernel)",
   "language": "python",
   "name": "python3"
  },
  "language_info": {
   "codemirror_mode": {
    "name": "ipython",
    "version": 3
   },
   "file_extension": ".py",
   "mimetype": "text/x-python",
   "name": "python",
   "nbconvert_exporter": "python",
   "pygments_lexer": "ipython3",
   "version": "3.8.11"
  }
 },
 "nbformat": 4,
 "nbformat_minor": 5
}
